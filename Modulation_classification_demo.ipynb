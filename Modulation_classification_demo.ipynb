{
  "nbformat": 4,
  "nbformat_minor": 0,
  "metadata": {
    "accelerator": "GPU",
    "colab": {
      "name": "Villanova_RF_classification.ipynb",
      "provenance": [],
      "collapsed_sections": [],
      "machine_shape": "hm"
    },
    "kernelspec": {
      "display_name": "Python 3",
      "name": "python3"
    }
  },
  "cells": [
    {
      "cell_type": "code",
      "metadata": {
        "colab": {
          "base_uri": "https://localhost:8080/"
        },
        "id": "E-0kX9K5Brsk",
        "outputId": "7824697d-f3b6-45fa-dbf9-012fa6996dd2"
      },
      "source": [
        "from google.colab import drive\n",
        "drive.mount(\"/content/gdrive/\")\n",
        "root_path = \"/content/gdrive/My Drive/RF_signal_classification/\"\n",
        "%cd \"/content/gdrive/My Drive/RF_signal_classification/\""
      ],
      "execution_count": 1,
      "outputs": [
        {
          "output_type": "stream",
          "name": "stdout",
          "text": [
            "Drive already mounted at /content/gdrive/; to attempt to forcibly remount, call drive.mount(\"/content/gdrive/\", force_remount=True).\n",
            "/content/gdrive/My Drive/RF_signal_classification\n"
          ]
        }
      ]
    },
    {
      "cell_type": "code",
      "metadata": {
        "id": "EF2fLFl8ba8l"
      },
      "source": [
        "# !pip install 'h5py==2.10.0' --force-reinstall"
      ],
      "execution_count": 2,
      "outputs": []
    },
    {
      "cell_type": "code",
      "metadata": {
        "colab": {
          "base_uri": "https://localhost:8080/"
        },
        "id": "MwAPqd-jx6fd",
        "outputId": "60dfaff3-fae0-43f7-ca51-8ed0627efaeb"
      },
      "source": [
        "%cd Tech\n",
        "%ls | grep pickle"
      ],
      "execution_count": 3,
      "outputs": [
        {
          "output_type": "stream",
          "name": "stdout",
          "text": [
            "/content/gdrive/My Drive/RF_signal_classification/Tech\n",
            "resnet_result.pickle\n",
            "ResNet_weights_500_0827_1281.pickle\n",
            "ResNet_weights_500_0827_1282.pickle\n",
            "ResNet_weights_500_0827_640.pickle\n",
            "ResNet_weights_500_0827.pickle\n",
            "SNR0_img_256.pickle\n",
            "SNR0_img.pickle\n",
            "SNR10_img_256.pickle\n",
            "SNR10_img.pickle\n",
            "SNR20_img_256.pickle\n",
            "SNR20_img.pickle\n",
            "Tech_1500_20.pickle\n",
            "Tech_1500_9.pickle\n",
            "Tech_1500.pickle\n",
            "Tech_2000.pickle\n",
            "Tech_mod12_test.pickle\n",
            "Tech_mod16_test.pickle\n",
            "Tech_mod20_test.pickle\n",
            "Tech_mod8_test.pickle\n",
            "Tech_test_500_1_3.pickle\n",
            "Tech_test_500_FE_unknown.pickle\n",
            "Tech_test_500.pickle\n",
            "Tech_test_500_ray.pickle\n",
            "Tech_test_500_unknown.pickle\n",
            "Tech_test_mod12.pickle\n",
            "Tech_test_unknown_.pickle\n",
            "unknown_FE_500_0902.pickle\n",
            "Unknown_test_500_0827.pickle\n",
            "Unknown_test_500_0830_pca100.pickle\n",
            "Unknown_test_500_0830_pca200.pickle\n",
            "Unknown_test_500_0830_pca54.pickle\n"
          ]
        }
      ]
    },
    {
      "cell_type": "code",
      "metadata": {
        "id": "pPssZ986BxDb",
        "colab": {
          "base_uri": "https://localhost:8080/"
        },
        "outputId": "ee9fce8b-9fb6-4220-a970-0a73229ec5a1"
      },
      "source": [
        "import os\n",
        "import time\n",
        "import pickle\n",
        "import numpy as np\n",
        "import pandas as pd\n",
        "import seaborn as sns\n",
        "import matplotlib.pyplot as plt\n",
        "from sklearn import preprocessing\n",
        "\n",
        "#%resnet\n",
        "%tensorflow_version 1.x\n",
        "import tensorflow\n",
        "import keras\n",
        "from keras.optimizers import Adam\n",
        "from keras.initializers import glorot_uniform\n",
        "from keras.models import Sequential, Model, load_model\n",
        "from keras.callbacks import EarlyStopping, Callback, ModelCheckpoint\n",
        "from keras.layers.convolutional import Convolution1D ,Convolution2D, MaxPooling2D, ZeroPadding2D\n",
        "from keras.layers import Dense, Dropout, Activation, Flatten, Reshape, BatchNormalization, LSTM, Conv1D, MaxPooling1D, Conv2D, Input, Concatenate, Add"
      ],
      "execution_count": 4,
      "outputs": [
        {
          "output_type": "stream",
          "name": "stdout",
          "text": [
            "TensorFlow 1.x selected.\n"
          ]
        },
        {
          "output_type": "stream",
          "name": "stderr",
          "text": [
            "Using TensorFlow backend.\n"
          ]
        }
      ]
    },
    {
      "cell_type": "code",
      "metadata": {
        "id": "bSMgNkZpSWRq"
      },
      "source": [
        "TestBench = 'Tech_test_500'\n",
        "with open('./' + TestBench + '.pickle', 'rb') as f2:\n",
        "    X, Y = pickle.load(f2)"
      ],
      "execution_count": 5,
      "outputs": []
    },
    {
      "cell_type": "code",
      "metadata": {
        "id": "ffZmY1XoqP4B"
      },
      "source": [
        "# 1d conv resnet\n",
        "def residual_stack(x, f):\n",
        "    x = Conv1D(f, 1, strides=1, padding='same', data_format='channels_last')(x)\n",
        "    x = Activation('linear')(x)\n",
        "    x_shortcut = x\n",
        "    x = Conv1D(f, 3, strides=1, padding=\"same\", data_format='channels_last')(x)\n",
        "    x = Activation('relu')(x)\n",
        "    x = Conv1D(f, 3, strides=1, padding=\"same\", data_format='channels_last')(x)\n",
        "    x = Activation('linear')(x)\n",
        "    if x.shape[1:] == x_shortcut.shape[1:]:\n",
        "      x = Add()([x, x_shortcut])\n",
        "    else:\n",
        "      raise Exception('Skip Connection Failure!')\n",
        "    x_shortcut = x\n",
        "    x = Conv1D(f, 3, strides=1, padding=\"same\", data_format='channels_last')(x)\n",
        "    x = Activation('relu')(x)\n",
        "    x = Conv1D(f, 3, strides = 1, padding = \"same\", data_format='channels_last')(x)\n",
        "    x = Activation('linear')(x)\n",
        "    if x.shape[1:] == x_shortcut.shape[1:]:\n",
        "      x = Add()([x, x_shortcut])\n",
        "    else:\n",
        "      raise Exception('Skip Connection Failure!')\n",
        "    x = MaxPooling1D(pool_size=2, strides=None, padding='valid', data_format='channels_last')(x)\n",
        "    return x\n",
        "\n",
        "# define resnet model\n",
        "def build_ResNet(input_shape, classes):\n",
        "    x_input = Input(input_shape)\n",
        "    x = x_input\n",
        "    num_filters = 40\n",
        "    x = residual_stack(x, num_filters)\n",
        "    x = residual_stack(x, num_filters)\n",
        "    x = residual_stack(x, num_filters)\n",
        "    x = residual_stack(x, num_filters)\n",
        "    x = residual_stack(x, num_filters)\n",
        "    x = residual_stack(x, num_filters)\n",
        "    # decision making section\n",
        "    x = Flatten()(x)\n",
        "    x = Dense(128, activation=\"selu\", kernel_initializer=\"he_normal\")(x)\n",
        "    x = Dropout(.5)(x)\n",
        "    x = Dense(128, activation=\"selu\", kernel_initializer=\"he_normal\")(x)\n",
        "    x = Dropout(.5)(x)\n",
        "    x = Dense(classes, activation='softmax', kernel_initializer = glorot_uniform(seed=0))(x)\n",
        "    model = Model(inputs = x_input, outputs = x)\n",
        "    adm = keras.optimizers.Adam(lr=0.0001, beta_1=0.9, beta_2=0.999, epsilon=1e-07, decay=0.0, amsgrad=False)\n",
        "    model.compile(optimizer='Adam', loss='categorical_crossentropy', metrics=['accuracy'])\n",
        "    model.summary()\n",
        "    return model"
      ],
      "execution_count": 6,
      "outputs": []
    },
    {
      "cell_type": "code",
      "metadata": {
        "id": "xo_LmuJCt3Ka"
      },
      "source": [
        "labels_test = Y\n",
        "y_test = labels_test[:, 0]\n",
        "X_test = X"
      ],
      "execution_count": 7,
      "outputs": []
    },
    {
      "cell_type": "code",
      "metadata": {
        "colab": {
          "base_uri": "https://localhost:8080/"
        },
        "id": "OU_zwG3PQfl5",
        "outputId": "63fa8b7a-9187-4399-bb44-986470dcdee5"
      },
      "source": [
        "X_test.shape, y_test.shape"
      ],
      "execution_count": 8,
      "outputs": [
        {
          "output_type": "execute_result",
          "data": {
            "text/plain": [
              "((60000, 2, 1024), (60000,))"
            ]
          },
          "metadata": {},
          "execution_count": 8
        }
      ]
    },
    {
      "cell_type": "code",
      "metadata": {
        "id": "k-ZviMDvoyyc"
      },
      "source": [
        "BATCH_SIZE = 1024\n",
        "def plot_confusion_matrix(cm, title='Confusion matrix', cmap=plt.cm.Blues, labels=[]):\n",
        "    ax= plt.subplot()\n",
        "    sns.heatmap(cm, annot=True, ax = ax, cmap=cmap); #annot=True to annotate cells\n",
        "    plt.title(title)\n",
        "    tick_marks = np.arange(len(labels))\n",
        "    plt.xticks(tick_marks, labels, rotation=45)\n",
        "    plt.yticks(tick_marks, labels)\n",
        "    plt.tight_layout()\n",
        "    plt.xlabel('Predicted label')\n",
        "    plt.ylabel('True label')\n",
        "\n",
        "class ModelEvaluater:\n",
        "  def __init__(self, model, X_train, y_train, X_val, y_val, X_test, y_test, labels_test, batch_size, model_name, channels_first=True, feature_type=1):\n",
        "    if channels_first:\n",
        "      self.X_train = X_train\n",
        "      self.X_val = X_val\n",
        "      self.X_test = X_test\n",
        "    else:\n",
        "      self.X_train = np.array([np.hstack([X_train[x][0].reshape(-1, 1), X_train[x][1].reshape(-1, 1)]) for x in range(X_train.shape[0])])\n",
        "      self.X_val = np.array([np.hstack([X_val[x][0].reshape(-1, 1), X_val[x][1].reshape(-1, 1)]) for x in range(X_val.shape[0])])\n",
        "      self.X_test = np.array([np.hstack([X_test[x][0].reshape(-1, 1), X_test[x][1].reshape(-1, 1)]) for x in range(X_test.shape[0])])\n",
        "    \n",
        "    self.feature_type = feature_type\n",
        "      \n",
        "    self.model = model\n",
        "    self.y_train = y_train\n",
        "    self.y_val = y_val\n",
        "    self.y_test = y_test\n",
        "    self.labels_test = labels_test\n",
        "    self.model_name = model_name\n",
        "    self._checkpoint_callback = ModelCheckpoint(filepath='./' + '%s-weights-{epoch}.hdf5' % self.model_name, verbose=1, save_best_only=True)\n",
        "    self._train_accs = []\n",
        "    self._val_accs = []\n",
        "    self._snr_accs = []\n",
        "    \n",
        "    self.batch_size = batch_size\n",
        "    self.mod_types = np.unique(y_test)\n",
        "    #['1_BPSK', '2_QPSK', '3_8PSK', '4_16QAM', '51_FSK', '52_FSK', '53_FSK', '54_FSK', '6_USB', '7_LSB', '8_AM', '9_FM']\n",
        "    self.mod_to_onehot = preprocessing.LabelBinarizer()\n",
        "    self.mod_to_onehot.fit(self.mod_types)\n",
        "    self.y_train = self.mod_to_onehot.transform(y_train)\n",
        "    self.y_val = self.mod_to_onehot.transform(y_val)\n",
        "    self.y_test = self.mod_to_onehot.transform(y_test)\n",
        "    print('y_train %s' %(y_train.shape))\n",
        "    print('y_val %s' %(y_val.shape))\n",
        "    print('y_test %s' %(y_test.shape))\n",
        "    y_hat = self.model.predict(self.X_test, batch_size)\n",
        "    y_hat_onehot = np.zeros_like(y_hat)\n",
        "    y_hat_onehot[np.arange(len(y_hat)), np.array(y_hat).argmax(1)] = 1\n",
        "    y_hat_mod = self.mod_to_onehot.inverse_transform(y_hat_onehot)\n",
        "    y_mod = self.mod_to_onehot.inverse_transform(self.y_test)\n",
        "    \n",
        "    with open('./resnet_result.pickle', 'wb') as f2:\n",
        "        pickle.dump([y_hat, y_hat_onehot, y_hat_mod, self.mod_to_onehot.classes_], f2, pickle.HIGHEST_PROTOCOL)\n",
        "    print('prediction result saved') \n",
        "  def print_summary(self):\n",
        "    snr_accs = {}\n",
        "    snrs = np.unique(np.unique(self.labels_test,axis=0)[:,1]).astype('float')\n",
        "    for snr in sorted(snrs):\n",
        "        labels_test = np.array([float(lbl) for lbl in self.labels_test[:,1]])\n",
        "        idx = np.where(labels_test == snr)\n",
        "        X_snr = self.X_test[idx]\n",
        "        y_snr = self.y_test[idx]\n",
        "        y_hat = self.model.predict(X_snr, self.batch_size)\n",
        "        y_hat_onehot = np.zeros_like(y_hat)\n",
        "        y_hat_onehot[np.arange(len(y_hat)), np.array(y_hat).argmax(1)] = 1\n",
        "        y_hat_mod = self.mod_to_onehot.inverse_transform(y_hat_onehot)\n",
        "        y_mod = self.mod_to_onehot.inverse_transform(y_snr)\n",
        "        acc = np.mean(y_mod == y_hat_mod)\n",
        "        snr_accs[snr] = acc\n",
        "\n",
        "    # plot the accuracy against the snr\n",
        "    plt.plot(list(snr_accs.keys()),list(snr_accs.values()), '8-r')\n",
        "    plt.xlabel(\"Signal to Noise Ratio\", fontsize = 15)\n",
        "    plt.ylabel(\"Classification Accuracy\", fontsize = 15)\n",
        "    plt.xticks(list(snr_accs.keys()))\n",
        "    print('acc labels', list(snr_accs.keys()))\n",
        "    print('acc results', list(snr_accs.values()))\n",
        "    plt.title('Accuracy vs. SNR', fontsize = 15)\n",
        "    plt.yticks([0, 0.1, 0.2, 0.3, 0.4, 0.5, 0.6, 0.7, 0.8, 0.9, 1.0])\n",
        "    plt.grid(True)\n",
        "    plt.show()"
      ],
      "execution_count": 9,
      "outputs": []
    },
    {
      "cell_type": "code",
      "metadata": {
        "id": "chzRVlcwPUyp"
      },
      "source": [
        "unique = np.unique(y_test)\n",
        "NUM_CLASSES = len(unique)"
      ],
      "execution_count": 10,
      "outputs": []
    },
    {
      "cell_type": "code",
      "metadata": {
        "id": "l_uP4Rz5vEJ4"
      },
      "source": [
        "idx2mod = {}\n",
        "for i in range(len(unique)):\n",
        "    idx2mod[i] = unique[i]"
      ],
      "execution_count": 11,
      "outputs": []
    },
    {
      "cell_type": "code",
      "metadata": {
        "id": "Gxs6nAkJvSyJ"
      },
      "source": [
        "mod2idx = {}\n",
        "for i in range(len(unique)):\n",
        "    mod2idx[unique[i]] = i "
      ],
      "execution_count": 12,
      "outputs": []
    },
    {
      "cell_type": "code",
      "metadata": {
        "colab": {
          "base_uri": "https://localhost:8080/"
        },
        "id": "f-IT-A95wEfd",
        "outputId": "58655d4a-b75b-4d81-8886-458d93802494"
      },
      "source": [
        "mod2idx, idx2mod"
      ],
      "execution_count": 13,
      "outputs": [
        {
          "output_type": "execute_result",
          "data": {
            "text/plain": [
              "({'1_BPSK': 0,\n",
              "  '2_QPSK': 1,\n",
              "  '3_8PSK': 2,\n",
              "  '4_16QAM': 3,\n",
              "  '51_FSK': 4,\n",
              "  '52_FSK': 5,\n",
              "  '53_FSK': 6,\n",
              "  '54_FSK': 7,\n",
              "  '6_USB': 8,\n",
              "  '7_LSB': 9,\n",
              "  '8_AM': 10,\n",
              "  '9_FM': 11},\n",
              " {0: '1_BPSK',\n",
              "  1: '2_QPSK',\n",
              "  2: '3_8PSK',\n",
              "  3: '4_16QAM',\n",
              "  4: '51_FSK',\n",
              "  5: '52_FSK',\n",
              "  6: '53_FSK',\n",
              "  7: '54_FSK',\n",
              "  8: '6_USB',\n",
              "  9: '7_LSB',\n",
              "  10: '8_AM',\n",
              "  11: '9_FM'})"
            ]
          },
          "metadata": {},
          "execution_count": 13
        }
      ]
    },
    {
      "cell_type": "code",
      "metadata": {
        "id": "qA2isC5kuIiB"
      },
      "source": [
        "plt.rcParams['figure.figsize'] = (12.0, 10.0) # set default size of plots\n",
        "plt.rcParams['image.interpolation'] = 'nearest'\n",
        "plt.rcParams['image.cmap'] = 'gray'"
      ],
      "execution_count": 14,
      "outputs": []
    },
    {
      "cell_type": "code",
      "metadata": {
        "colab": {
          "base_uri": "https://localhost:8080/",
          "height": 1000
        },
        "id": "9k8tGvb35f47",
        "outputId": "7fc50fd2-fb19-4634-edbf-877af53f9c9b"
      },
      "source": [
        "from keras import backend as K\n",
        "K.clear_session()\n",
        "resnet_model = build_ResNet((X_test.shape[2],X_test.shape[1]), NUM_CLASSES)\n",
        "# resnet_model.load_weights('./res-net_sps8_digital.hdf5')\n",
        "# resnet_model.load_weights('./res-net_sps8_without_32APSK.hdf5')\n",
        "# resnet_model.load_weights('../weights/res-net_sps4.hdf5')\n",
        "# resnet_model.load_weights('../weights/res-net_tau1-weights-98.hdf5')\n",
        "# resnet_model.load_weights('../weights/res-net_sps20_3_2.hdf5')\n",
        "# resnet_model.load_weights('../weights/res-net_snr.hdf5')\n",
        "# resnet_model.load_weights('../weights/res-net_Tech_mod_8_1_3.hdf5')\n",
        "resnet_model.load_weights('../weights/res-net_Tech_mod_12.hdf5') \n",
        "# resnet_model.load_weights('../weights/res-net_sps8_9.hdf5')\n",
        "# resnet_model.load_weights('../weights/res-net_sps6_7_9.hdf5')\n",
        "# resnet_model.load_weights('../weights/res-net_sps16_2.hdf5')\n",
        "# resnet_model.load_weights('../weights/res-net_mix.hdf5')\n",
        "# resnet_model.load_weights('../weights/res-net_sps20.hdf5')\n",
        "# resnet_model.load_weights('../weights/res-net_sps20_3_3.hdf5')\n",
        "resnet_model_evaluater = ModelEvaluater(resnet_model, X_test, y_test, X_test, y_test, X_test, y_test, labels_test, BATCH_SIZE, 'resnet_model',  channels_first=False)\n",
        "resnet_model_evaluater.print_summary()"
      ],
      "execution_count": 15,
      "outputs": [
        {
          "output_type": "stream",
          "name": "stdout",
          "text": [
            "WARNING:tensorflow:From /tensorflow-1.15.2/python3.7/tensorflow_core/python/ops/resource_variable_ops.py:1630: calling BaseResourceVariable.__init__ (from tensorflow.python.ops.resource_variable_ops) with constraint is deprecated and will be removed in a future version.\n",
            "Instructions for updating:\n",
            "If using Keras pass *_constraint arguments to layers.\n",
            "WARNING:tensorflow:From /tensorflow-1.15.2/python3.7/keras/backend/tensorflow_backend.py:4070: The name tf.nn.max_pool is deprecated. Please use tf.nn.max_pool2d instead.\n",
            "\n",
            "WARNING:tensorflow:From /tensorflow-1.15.2/python3.7/keras/backend/tensorflow_backend.py:3313: where (from tensorflow.python.ops.array_ops) is deprecated and will be removed in a future version.\n",
            "Instructions for updating:\n",
            "Use tf.where in 2.0, which has the same broadcast rule as np.where\n",
            "Model: \"model_1\"\n",
            "__________________________________________________________________________________________________\n",
            "Layer (type)                    Output Shape         Param #     Connected to                     \n",
            "==================================================================================================\n",
            "input_1 (InputLayer)            (None, 1024, 2)      0                                            \n",
            "__________________________________________________________________________________________________\n",
            "conv1d_1 (Conv1D)               (None, 1024, 40)     120         input_1[0][0]                    \n",
            "__________________________________________________________________________________________________\n",
            "activation_1 (Activation)       (None, 1024, 40)     0           conv1d_1[0][0]                   \n",
            "__________________________________________________________________________________________________\n",
            "conv1d_2 (Conv1D)               (None, 1024, 40)     4840        activation_1[0][0]               \n",
            "__________________________________________________________________________________________________\n",
            "activation_2 (Activation)       (None, 1024, 40)     0           conv1d_2[0][0]                   \n",
            "__________________________________________________________________________________________________\n",
            "conv1d_3 (Conv1D)               (None, 1024, 40)     4840        activation_2[0][0]               \n",
            "__________________________________________________________________________________________________\n",
            "activation_3 (Activation)       (None, 1024, 40)     0           conv1d_3[0][0]                   \n",
            "__________________________________________________________________________________________________\n",
            "add_1 (Add)                     (None, 1024, 40)     0           activation_3[0][0]               \n",
            "                                                                 activation_1[0][0]               \n",
            "__________________________________________________________________________________________________\n",
            "conv1d_4 (Conv1D)               (None, 1024, 40)     4840        add_1[0][0]                      \n",
            "__________________________________________________________________________________________________\n",
            "activation_4 (Activation)       (None, 1024, 40)     0           conv1d_4[0][0]                   \n",
            "__________________________________________________________________________________________________\n",
            "conv1d_5 (Conv1D)               (None, 1024, 40)     4840        activation_4[0][0]               \n",
            "__________________________________________________________________________________________________\n",
            "activation_5 (Activation)       (None, 1024, 40)     0           conv1d_5[0][0]                   \n",
            "__________________________________________________________________________________________________\n",
            "add_2 (Add)                     (None, 1024, 40)     0           activation_5[0][0]               \n",
            "                                                                 add_1[0][0]                      \n",
            "__________________________________________________________________________________________________\n",
            "max_pooling1d_1 (MaxPooling1D)  (None, 512, 40)      0           add_2[0][0]                      \n",
            "__________________________________________________________________________________________________\n",
            "conv1d_6 (Conv1D)               (None, 512, 40)      1640        max_pooling1d_1[0][0]            \n",
            "__________________________________________________________________________________________________\n",
            "activation_6 (Activation)       (None, 512, 40)      0           conv1d_6[0][0]                   \n",
            "__________________________________________________________________________________________________\n",
            "conv1d_7 (Conv1D)               (None, 512, 40)      4840        activation_6[0][0]               \n",
            "__________________________________________________________________________________________________\n",
            "activation_7 (Activation)       (None, 512, 40)      0           conv1d_7[0][0]                   \n",
            "__________________________________________________________________________________________________\n",
            "conv1d_8 (Conv1D)               (None, 512, 40)      4840        activation_7[0][0]               \n",
            "__________________________________________________________________________________________________\n",
            "activation_8 (Activation)       (None, 512, 40)      0           conv1d_8[0][0]                   \n",
            "__________________________________________________________________________________________________\n",
            "add_3 (Add)                     (None, 512, 40)      0           activation_8[0][0]               \n",
            "                                                                 activation_6[0][0]               \n",
            "__________________________________________________________________________________________________\n",
            "conv1d_9 (Conv1D)               (None, 512, 40)      4840        add_3[0][0]                      \n",
            "__________________________________________________________________________________________________\n",
            "activation_9 (Activation)       (None, 512, 40)      0           conv1d_9[0][0]                   \n",
            "__________________________________________________________________________________________________\n",
            "conv1d_10 (Conv1D)              (None, 512, 40)      4840        activation_9[0][0]               \n",
            "__________________________________________________________________________________________________\n",
            "activation_10 (Activation)      (None, 512, 40)      0           conv1d_10[0][0]                  \n",
            "__________________________________________________________________________________________________\n",
            "add_4 (Add)                     (None, 512, 40)      0           activation_10[0][0]              \n",
            "                                                                 add_3[0][0]                      \n",
            "__________________________________________________________________________________________________\n",
            "max_pooling1d_2 (MaxPooling1D)  (None, 256, 40)      0           add_4[0][0]                      \n",
            "__________________________________________________________________________________________________\n",
            "conv1d_11 (Conv1D)              (None, 256, 40)      1640        max_pooling1d_2[0][0]            \n",
            "__________________________________________________________________________________________________\n",
            "activation_11 (Activation)      (None, 256, 40)      0           conv1d_11[0][0]                  \n",
            "__________________________________________________________________________________________________\n",
            "conv1d_12 (Conv1D)              (None, 256, 40)      4840        activation_11[0][0]              \n",
            "__________________________________________________________________________________________________\n",
            "activation_12 (Activation)      (None, 256, 40)      0           conv1d_12[0][0]                  \n",
            "__________________________________________________________________________________________________\n",
            "conv1d_13 (Conv1D)              (None, 256, 40)      4840        activation_12[0][0]              \n",
            "__________________________________________________________________________________________________\n",
            "activation_13 (Activation)      (None, 256, 40)      0           conv1d_13[0][0]                  \n",
            "__________________________________________________________________________________________________\n",
            "add_5 (Add)                     (None, 256, 40)      0           activation_13[0][0]              \n",
            "                                                                 activation_11[0][0]              \n",
            "__________________________________________________________________________________________________\n",
            "conv1d_14 (Conv1D)              (None, 256, 40)      4840        add_5[0][0]                      \n",
            "__________________________________________________________________________________________________\n",
            "activation_14 (Activation)      (None, 256, 40)      0           conv1d_14[0][0]                  \n",
            "__________________________________________________________________________________________________\n",
            "conv1d_15 (Conv1D)              (None, 256, 40)      4840        activation_14[0][0]              \n",
            "__________________________________________________________________________________________________\n",
            "activation_15 (Activation)      (None, 256, 40)      0           conv1d_15[0][0]                  \n",
            "__________________________________________________________________________________________________\n",
            "add_6 (Add)                     (None, 256, 40)      0           activation_15[0][0]              \n",
            "                                                                 add_5[0][0]                      \n",
            "__________________________________________________________________________________________________\n",
            "max_pooling1d_3 (MaxPooling1D)  (None, 128, 40)      0           add_6[0][0]                      \n",
            "__________________________________________________________________________________________________\n",
            "conv1d_16 (Conv1D)              (None, 128, 40)      1640        max_pooling1d_3[0][0]            \n",
            "__________________________________________________________________________________________________\n",
            "activation_16 (Activation)      (None, 128, 40)      0           conv1d_16[0][0]                  \n",
            "__________________________________________________________________________________________________\n",
            "conv1d_17 (Conv1D)              (None, 128, 40)      4840        activation_16[0][0]              \n",
            "__________________________________________________________________________________________________\n",
            "activation_17 (Activation)      (None, 128, 40)      0           conv1d_17[0][0]                  \n",
            "__________________________________________________________________________________________________\n",
            "conv1d_18 (Conv1D)              (None, 128, 40)      4840        activation_17[0][0]              \n",
            "__________________________________________________________________________________________________\n",
            "activation_18 (Activation)      (None, 128, 40)      0           conv1d_18[0][0]                  \n",
            "__________________________________________________________________________________________________\n",
            "add_7 (Add)                     (None, 128, 40)      0           activation_18[0][0]              \n",
            "                                                                 activation_16[0][0]              \n",
            "__________________________________________________________________________________________________\n",
            "conv1d_19 (Conv1D)              (None, 128, 40)      4840        add_7[0][0]                      \n",
            "__________________________________________________________________________________________________\n",
            "activation_19 (Activation)      (None, 128, 40)      0           conv1d_19[0][0]                  \n",
            "__________________________________________________________________________________________________\n",
            "conv1d_20 (Conv1D)              (None, 128, 40)      4840        activation_19[0][0]              \n",
            "__________________________________________________________________________________________________\n",
            "activation_20 (Activation)      (None, 128, 40)      0           conv1d_20[0][0]                  \n",
            "__________________________________________________________________________________________________\n",
            "add_8 (Add)                     (None, 128, 40)      0           activation_20[0][0]              \n",
            "                                                                 add_7[0][0]                      \n",
            "__________________________________________________________________________________________________\n",
            "max_pooling1d_4 (MaxPooling1D)  (None, 64, 40)       0           add_8[0][0]                      \n",
            "__________________________________________________________________________________________________\n",
            "conv1d_21 (Conv1D)              (None, 64, 40)       1640        max_pooling1d_4[0][0]            \n",
            "__________________________________________________________________________________________________\n",
            "activation_21 (Activation)      (None, 64, 40)       0           conv1d_21[0][0]                  \n",
            "__________________________________________________________________________________________________\n",
            "conv1d_22 (Conv1D)              (None, 64, 40)       4840        activation_21[0][0]              \n",
            "__________________________________________________________________________________________________\n",
            "activation_22 (Activation)      (None, 64, 40)       0           conv1d_22[0][0]                  \n",
            "__________________________________________________________________________________________________\n",
            "conv1d_23 (Conv1D)              (None, 64, 40)       4840        activation_22[0][0]              \n",
            "__________________________________________________________________________________________________\n",
            "activation_23 (Activation)      (None, 64, 40)       0           conv1d_23[0][0]                  \n",
            "__________________________________________________________________________________________________\n",
            "add_9 (Add)                     (None, 64, 40)       0           activation_23[0][0]              \n",
            "                                                                 activation_21[0][0]              \n",
            "__________________________________________________________________________________________________\n",
            "conv1d_24 (Conv1D)              (None, 64, 40)       4840        add_9[0][0]                      \n",
            "__________________________________________________________________________________________________\n",
            "activation_24 (Activation)      (None, 64, 40)       0           conv1d_24[0][0]                  \n",
            "__________________________________________________________________________________________________\n",
            "conv1d_25 (Conv1D)              (None, 64, 40)       4840        activation_24[0][0]              \n",
            "__________________________________________________________________________________________________\n",
            "activation_25 (Activation)      (None, 64, 40)       0           conv1d_25[0][0]                  \n",
            "__________________________________________________________________________________________________\n",
            "add_10 (Add)                    (None, 64, 40)       0           activation_25[0][0]              \n",
            "                                                                 add_9[0][0]                      \n",
            "__________________________________________________________________________________________________\n",
            "max_pooling1d_5 (MaxPooling1D)  (None, 32, 40)       0           add_10[0][0]                     \n",
            "__________________________________________________________________________________________________\n",
            "conv1d_26 (Conv1D)              (None, 32, 40)       1640        max_pooling1d_5[0][0]            \n",
            "__________________________________________________________________________________________________\n",
            "activation_26 (Activation)      (None, 32, 40)       0           conv1d_26[0][0]                  \n",
            "__________________________________________________________________________________________________\n",
            "conv1d_27 (Conv1D)              (None, 32, 40)       4840        activation_26[0][0]              \n",
            "__________________________________________________________________________________________________\n",
            "activation_27 (Activation)      (None, 32, 40)       0           conv1d_27[0][0]                  \n",
            "__________________________________________________________________________________________________\n",
            "conv1d_28 (Conv1D)              (None, 32, 40)       4840        activation_27[0][0]              \n",
            "__________________________________________________________________________________________________\n",
            "activation_28 (Activation)      (None, 32, 40)       0           conv1d_28[0][0]                  \n",
            "__________________________________________________________________________________________________\n",
            "add_11 (Add)                    (None, 32, 40)       0           activation_28[0][0]              \n",
            "                                                                 activation_26[0][0]              \n",
            "__________________________________________________________________________________________________\n",
            "conv1d_29 (Conv1D)              (None, 32, 40)       4840        add_11[0][0]                     \n",
            "__________________________________________________________________________________________________\n",
            "activation_29 (Activation)      (None, 32, 40)       0           conv1d_29[0][0]                  \n",
            "__________________________________________________________________________________________________\n",
            "conv1d_30 (Conv1D)              (None, 32, 40)       4840        activation_29[0][0]              \n",
            "__________________________________________________________________________________________________\n",
            "activation_30 (Activation)      (None, 32, 40)       0           conv1d_30[0][0]                  \n",
            "__________________________________________________________________________________________________\n",
            "add_12 (Add)                    (None, 32, 40)       0           activation_30[0][0]              \n",
            "                                                                 add_11[0][0]                     \n",
            "__________________________________________________________________________________________________\n",
            "max_pooling1d_6 (MaxPooling1D)  (None, 16, 40)       0           add_12[0][0]                     \n",
            "__________________________________________________________________________________________________\n",
            "flatten_1 (Flatten)             (None, 640)          0           max_pooling1d_6[0][0]            \n",
            "__________________________________________________________________________________________________\n",
            "dense_1 (Dense)                 (None, 128)          82048       flatten_1[0][0]                  \n",
            "__________________________________________________________________________________________________\n",
            "dropout_1 (Dropout)             (None, 128)          0           dense_1[0][0]                    \n",
            "__________________________________________________________________________________________________\n",
            "dense_2 (Dense)                 (None, 128)          16512       dropout_1[0][0]                  \n",
            "__________________________________________________________________________________________________\n",
            "dropout_2 (Dropout)             (None, 128)          0           dense_2[0][0]                    \n",
            "__________________________________________________________________________________________________\n",
            "dense_3 (Dense)                 (None, 12)           1548        dropout_2[0][0]                  \n",
            "==================================================================================================\n",
            "Total params: 224,588\n",
            "Trainable params: 224,588\n",
            "Non-trainable params: 0\n",
            "__________________________________________________________________________________________________\n",
            "y_train 60000\n",
            "y_val 60000\n",
            "y_test 60000\n",
            "WARNING:tensorflow:From /tensorflow-1.15.2/python3.7/keras/backend/tensorflow_backend.py:422: The name tf.global_variables is deprecated. Please use tf.compat.v1.global_variables instead.\n",
            "\n",
            "prediction result loaded\n",
            "acc labels [-20.0, -15.0, -10.0, -5.0, 0.0, 5.0, 10.0, 15.0, 20.0, 25.0]\n",
            "acc results [0.39, 0.6768333333333333, 0.8315, 0.9381666666666667, 0.9851666666666666, 0.9941666666666666, 0.9955, 0.9968333333333333, 0.9955, 0.9966666666666667]\n"
          ]
        },
        {
          "output_type": "display_data",
          "data": {
            "image/png": "[encoded data removed]",
            "text/plain": [
              "<Figure size 864x720 with 1 Axes>"
            ]
          },
          "metadata": {
            "needs_background": "light"
          }
        }
      ]
    },
    {
      "cell_type": "code",
      "metadata": {
        "id": "Cf8G9vd-89Ab",
        "colab": {
          "base_uri": "https://localhost:8080/"
        },
        "outputId": "c802bcbf-0b4c-424f-8a0f-4f9ae108e0ef"
      },
      "source": [
        "with open('./resnet_result.pickle', 'rb') as f1:\n",
        "    y_hat, y_hat_onehot, y_hat_mod, y_mod = pickle.load(f1)\n",
        "y_hat, y_hat_onehot, y_hat_mod"
      ],
      "execution_count": 16,
      "outputs": [
        {
          "output_type": "execute_result",
          "data": {
            "text/plain": [
              "(array([[3.88633981e-02, 1.03866450e-01, 1.35079503e-01, ...,\n",
              "         4.66277227e-02, 6.24803118e-02, 5.03303766e-01],\n",
              "        [1.68328926e-01, 6.74155429e-02, 7.97328949e-02, ...,\n",
              "         5.14799893e-01, 1.41964410e-04, 2.58867219e-02],\n",
              "        [7.46316314e-02, 1.10642083e-01, 9.65097845e-02, ...,\n",
              "         2.81111568e-01, 5.94240337e-05, 8.48982856e-02],\n",
              "        ...,\n",
              "        [1.18500669e-11, 1.95837413e-09, 6.28826765e-12, ...,\n",
              "         1.16520615e-09, 2.68760491e-13, 1.00000000e+00],\n",
              "        [1.10350748e-11, 1.67838343e-09, 5.52526427e-12, ...,\n",
              "         1.25039368e-09, 2.74191504e-13, 1.00000000e+00],\n",
              "        [1.12901945e-11, 1.82300108e-09, 5.66839891e-12, ...,\n",
              "         1.17676202e-09, 3.07733656e-13, 1.00000000e+00]], dtype=float32),\n",
              " array([[0., 0., 0., ..., 0., 0., 1.],\n",
              "        [0., 0., 0., ..., 1., 0., 0.],\n",
              "        [0., 0., 0., ..., 1., 0., 0.],\n",
              "        ...,\n",
              "        [0., 0., 0., ..., 0., 0., 1.],\n",
              "        [0., 0., 0., ..., 0., 0., 1.],\n",
              "        [0., 0., 0., ..., 0., 0., 1.]], dtype=float32),\n",
              " array(['9_FM', '7_LSB', '7_LSB', ..., '9_FM', '9_FM', '9_FM'], dtype='<U7'))"
            ]
          },
          "metadata": {},
          "execution_count": 16
        }
      ]
    },
    {
      "cell_type": "code",
      "metadata": {
        "id": "b_nmInM3YQ_P"
      },
      "source": [
        "#10 frames voting strategy\n",
        "\n",
        "sublabels = []\n",
        "slength = 10\n",
        "for i in range(0, y_test.shape[0], slength):\n",
        "    if labels_test[i].tolist() == labels_test[i+slength - 1].tolist():\n",
        "        \n",
        "        sublabels.append(labels_test[i])\n",
        "        # print(y_hat_mod[i:i+slength])\n",
        "    # print(np.unique(labels_test[i:i + (slength - 1)][:,0]))\n",
        "    if np.unique(labels_test[i:i + (slength)]).shape[0] > 2:\n",
        "        print(i, labels_test[i:i + (slength)])"
      ],
      "execution_count": 17,
      "outputs": []
    },
    {
      "cell_type": "code",
      "metadata": {
        "id": "vw43o2KZqh48"
      },
      "source": [
        "sublabels = []\n",
        "for i in range(0, y_test.shape[0], slength):\n",
        "    if labels_test[i].tolist() == labels_test[i+slength - 1].tolist():\n",
        "        \n",
        "        sublabels.append(labels_test[i])\n",
        "        # np.unique(labels_test[i:i + 9]))\n",
        "    else:\n",
        "        print('ERROR')\n",
        "y_pred_sub = []\n",
        "for i in range(0, y_test.shape[0], slength):\n",
        "    y_hat_10frame = np.sum(y_hat[i:i+slength], axis = 0)\n",
        "    y_pred_sub.append(idx2mod[np.argmax(y_hat_10frame)])\n",
        "y_pred_sub = np.array(y_pred_sub)\n",
        "sublabels = np.array(sublabels)"
      ],
      "execution_count": 18,
      "outputs": []
    },
    {
      "cell_type": "code",
      "metadata": {
        "colab": {
          "base_uri": "https://localhost:8080/",
          "height": 662
        },
        "id": "Mv63vGMkFUsf",
        "outputId": "8208e157-7608-41dc-f134-59c315489d1f"
      },
      "source": [
        "snr_accs = {}\n",
        "snrs = [-20, -15, -10, -5, 0, 5, 10, 15, 20, 25]\n",
        "SNR = np.array([float(lbl) for lbl in sublabels[:,1]])\n",
        "IDX = {}\n",
        "for snr in sorted(snrs):\n",
        "    idx = np.where(SNR == snr)\n",
        "    IDX[snr] = idx\n",
        "    y_hat_mod = y_pred_sub[idx]\n",
        "    y_mod = sublabels[:,0][idx]\n",
        "    acc = np.mean(y_mod == y_hat_mod)\n",
        "    snr_accs[snr] = acc\n",
        "# plot the accuracy against the snr\n",
        "plt.plot(list(snr_accs.keys()),list(snr_accs.values()), '8-r')\n",
        "plt.xlabel(\"Signal to Noise Ratio\", fontsize = 15)\n",
        "plt.ylabel(\"Classification Accuracy\", fontsize = 15)\n",
        "plt.xticks(list(snr_accs.keys()))\n",
        "print('acc labels', list(snr_accs.keys()))\n",
        "print('acc results', list(snr_accs.values()))\n",
        "plt.title('Accuracy vs. SNR', fontsize = 15)\n",
        "plt.yticks([0, 0.1, 0.2, 0.3, 0.4, 0.5, 0.6, 0.7, 0.8, 0.9, 1.0])\n",
        "plt.grid(True)\n",
        "plt.show()"
      ],
      "execution_count": 19,
      "outputs": [
        {
          "output_type": "stream",
          "name": "stdout",
          "text": [
            "acc labels [-20, -15, -10, -5, 0, 5, 10, 15, 20, 25]\n",
            "acc results [0.7166666666666667, 0.8033333333333333, 0.9066666666666666, 1.0, 1.0, 1.0, 1.0, 1.0, 1.0, 1.0]\n"
          ]
        },
        {
          "output_type": "display_data",
          "data": {
            "image/png": "[encoded data removed]",
            "text/plain": [
              "<Figure size 864x720 with 1 Axes>"
            ]
          },
          "metadata": {
            "needs_background": "light"
          }
        }
      ]
    },
    {
      "cell_type": "code",
      "metadata": {
        "id": "MJQemv_pldLC"
      },
      "source": [
        "from sklearn.metrics import confusion_matrix\n",
        "def plot_confusion_matrix(cm, title='Confusion matrix', cmap=plt.cm.Blues, labels=[]):\n",
        "    ax= plt.subplot()\n",
        "    sns.heatmap(cm, annot=True, ax = ax, cmap=cmap); #annot=True to annotate cells\n",
        "    plt.title(title)\n",
        "    tick_marks = np.arange(len(labels))\n",
        "    plt.xticks(tick_marks, labels, rotation=45)\n",
        "    plt.yticks(tick_marks, labels)\n",
        "    plt.tight_layout()\n",
        "    plt.xlabel('Predicted label')\n",
        "    plt.ylabel('True label')\n",
        "\n",
        "def generate_confusion_matrix(y_mod, y_hat_mod):\n",
        "    \"\"\"\n",
        "      y is the one hot encoded label vector passed to the model.evaluate\n",
        "    \"\"\"\n",
        "    # mod_to_idx = {'16APSK': 0, '16QAM': 1, '32APSK': 2, '4QAM': 3, '64QAM': 4, '8PSK': 5, 'BPSK': 6, 'CPFSK': 7, 'QPSK': 8}\n",
        "    # mod_to_idx = {'-10': 2, '-14': 1, '-18': 0, '-2': 4, '-6': 3, '10': 7, '14': 8, '18': 9, '2': 5, '6': 6}\n",
        "    acc = np.mean(y_mod == y_hat_mod)\n",
        "    print('accuracy', acc)\n",
        "    # fill in the confusion matrix\n",
        "    confusion_mat = np.zeros([len(idx2mod.keys()), len(idx2mod.keys())])\n",
        "    # confusion_mat = np.zeros([11, 11])\n",
        "    for ind in range(y_mod.shape[0]):\n",
        "        # print(ind)\n",
        "        true_idx = mod2idx[y_mod[ind]]\n",
        "        pred_idx = mod2idx[y_hat_mod[ind]]\n",
        "        # print(ind, true_idx, pred_idx)     \n",
        "        confusion_mat[true_idx, pred_idx,] += 1\n",
        "\n",
        "    # normalize the matrix column wise\n",
        "    for i in range(len(idx2mod.keys())):\n",
        "        if np.sum(confusion_mat[i,:]) > 0:\n",
        "            confusion_mat[i,:] /= np.sum(confusion_mat[i,:])\n",
        "    labels_ = mod2idx.keys()\n",
        "    plot_confusion_matrix(confusion_mat, title='Confusion matrix, %s segments'%str(slength) + ', classification acc = %s'%acc, cmap=plt.cm.Blues, labels = labels_)\n",
        "    return confusion_mat, acc\n"
      ],
      "execution_count": 20,
      "outputs": []
    },
    {
      "cell_type": "code",
      "metadata": {
        "colab": {
          "base_uri": "https://localhost:8080/",
          "height": 760
        },
        "id": "ppf1iIWc8WB3",
        "outputId": "52339538-72ad-422d-8092-5a0c21e30ec9"
      },
      "source": [
        "y_true_mod = sublabels[:,0]\n",
        "y_pred_mod = y_pred_sub\n",
        "y_hat_mod, y_mod \n",
        "cm, acc = generate_confusion_matrix(y_true_mod, y_pred_mod)\n"
      ],
      "execution_count": 21,
      "outputs": [
        {
          "output_type": "stream",
          "name": "stdout",
          "text": [
            "accuracy 0.9426666666666667\n"
          ]
        },
        {
          "output_type": "display_data",
          "data": {
            "image/png": "[encoded data removed]",
            "text/plain": [
              "<Figure size 864x720 with 2 Axes>"
            ]
          },
          "metadata": {
            "needs_background": "light"
          }
        }
      ]
    },
    {
      "cell_type": "code",
      "metadata": {
        "id": "dd0NJFLIbf-r"
      },
      "source": [
        ""
      ],
      "execution_count": 21,
      "outputs": []
    }
  ]
}